{
 "cells": [
  {
   "cell_type": "markdown",
   "metadata": {},
   "source": [
    "The problem consist of resolving a Maze environment with three different implementations based on Markov Decision Process.\n",
    "\n",
    "In this illustration, the black squares symbolise obstacles, and the dark-grey squares absorbing states (terminal), that correspond to specific rewards. \n",
    "\n",
    "It is assumed access to the transition matrix T and the reward function R only for the Dynamic Programming implementation . The aim is to find the optimal policy by sampling episodes.\n",
    "\n",
    "Considering to have a agent moving inside the maze going north, south, east, west whose aim is to pursue the trajectory that maximise the reward.\n",
    "\n",
    "Chosing an action the agent has probability $p$ to lead to the expected deirection and $\\frac{1-p}{3}$ to go in any other direction. If the outcome of an action corresponds to a direction with a wall or an abstacle the aget will not move.\n",
    "\n",
    "Any action performed in the environment gives a reward of -1, the episode ends when one of the absorbing states (violet or green) is reached or the agent performs more than 500 steps.\n",
    "\n",
    "The violet absorbing states give a reward of -50 whereas the green one of 500.\n",
    "\n",
    "The starting state is randomly picked.\n"
   ]
  },
  {
   "cell_type": "code",
   "execution_count": null,
   "metadata": {
    "vscode": {
     "languageId": "plaintext"
    }
   },
   "outputs": [],
   "source": []
  }
 ],
 "metadata": {
  "language_info": {
   "name": "python"
  },
  "orig_nbformat": 4
 },
 "nbformat": 4,
 "nbformat_minor": 2
}
